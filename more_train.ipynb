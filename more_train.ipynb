{
 "cells": [
  {
   "cell_type": "markdown",
   "metadata": {},
   "source": [
    "<h1>Hadware usado</h1>\n",
    "Los siguientes modelos fueron corridos en maquinas virtuales de google (cuadernos de IA Platform)"
   ]
  },
  {
   "cell_type": "code",
   "execution_count": 1,
   "metadata": {},
   "outputs": [
    {
     "name": "stdout",
     "output_type": "stream",
     "text": [
      "Sun Feb  9 07:13:17 2020       \n",
      "+-----------------------------------------------------------------------------+\n",
      "| NVIDIA-SMI 418.87.01    Driver Version: 418.87.01    CUDA Version: 10.1     |\n",
      "|-------------------------------+----------------------+----------------------+\n",
      "| GPU  Name        Persistence-M| Bus-Id        Disp.A | Volatile Uncorr. ECC |\n",
      "| Fan  Temp  Perf  Pwr:Usage/Cap|         Memory-Usage | GPU-Util  Compute M. |\n",
      "|===============================+======================+======================|\n",
      "|   0  Tesla K80           Off  | 00000000:00:04.0 Off |                    0 |\n",
      "| N/A   49C    P0    59W / 149W |    230MiB / 11441MiB |      0%      Default |\n",
      "+-------------------------------+----------------------+----------------------+\n",
      "                                                                               \n",
      "+-----------------------------------------------------------------------------+\n",
      "| Processes:                                                       GPU Memory |\n",
      "|  GPU       PID   Type   Process name                             Usage      |\n",
      "|=============================================================================|\n",
      "|    0     24858      C   /usr/bin/python3                             217MiB |\n",
      "+-----------------------------------------------------------------------------+\n"
     ]
    }
   ],
   "source": [
    "!nvidia-smi"
   ]
  },
  {
   "cell_type": "markdown",
   "metadata": {},
   "source": [
    "<h2>Librerias</h2>\n",
    "\n",
    "Se usa libreria <code>datatime</code> para obtener la hora especifica, lo usamos para guardar los modelos periodicamente a medida que lo ibamos entrenando"
   ]
  },
  {
   "cell_type": "code",
   "execution_count": 11,
   "metadata": {},
   "outputs": [],
   "source": [
    "import pandas as pd\n",
    "import sys\n",
    "import os\n",
    "import numpy as np\n",
    "import tensorflow as tf\n",
    "from tensorflow.python.keras.preprocessing.image import ImageDataGenerator\n",
    "from tensorflow.python.keras import optimizers\n",
    "from tensorflow.python.keras.preprocessing import image\n",
    "from tensorflow.python.keras.models import Sequential\n",
    "from tensorflow.python.keras.layers import Dropout, Flatten, Dense, Activation, Add,SpatialDropout2D\n",
    "from tensorflow.python.keras.layers import Convolution2D, MaxPooling2D\n",
    "from tensorflow.python.keras import backend as K\n",
    "import PIL\n",
    "\n",
    "from tensorflow.python.keras.applications.imagenet_utils import preprocess_input\n",
    "import matplotlib.pyplot as plt\n",
    "from matplotlib.pyplot import imshow\n",
    "\n",
    "import datetime\n"
   ]
  },
  {
   "cell_type": "markdown",
   "metadata": {},
   "source": [
    "<h2>Hiperparametros</h2>"
   ]
  },
  {
   "cell_type": "code",
   "execution_count": 3,
   "metadata": {},
   "outputs": [],
   "source": [
    "#K.image_data_format() CHANNELS_LAST\n",
    "nb_train_samples = 7947 \n",
    "nb_validation_samples = 300\n",
    "\n",
    "train_dir = 'data/train'\n",
    "dev_dir = 'data/dev'\n",
    "test_dir = 'data/test'\n",
    "epochs = 10\n",
    "width, height = 306, 306\n",
    "batch_size = 16\n",
    "steps = nb_train_samples // batch_size\n",
    "validation_steps = nb_validation_samples // batch_size\n",
    "#Tamaño profundidad de filtros\n",
    "filtersConv1 = 32\n",
    "filtersConv2 = 32\n",
    "filtersConv3 = 64\n",
    "\n",
    "#Tamaño de los filtros\n",
    "filter_size1 = (3,3)\n",
    "filter_size2 = (3,3)\n",
    "filter_size3 = (3,3)\n",
    "#PoolSizes\n",
    "pool_size1 = (2,2)\n",
    "pool_size2 = (2,2)\n",
    "pool_size3 = (2,2)\n",
    "\n",
    "number_class = 3\n",
    "learning_rate = 0.005\n",
    "lr = learning_rate\n",
    "#Limpiamos sesiones previas\n",
    "K.clear_session()\n",
    "\n",
    "filter_convs = [filtersConv1, filtersConv2, filtersConv3]\n",
    "filter_sizes = [filter_size1, filter_size2, filter_size3]\n",
    "pool_sizes   = [pool_size1, pool_size2, pool_size3]\n",
    "\n",
    " "
   ]
  },
  {
   "cell_type": "markdown",
   "metadata": {},
   "source": [
    "<h2>Cargando modelo entrenado</h2>\n",
    "Se selecciona el ultimo modelo generado y se entrena por 10 epocas más"
   ]
  },
  {
   "cell_type": "code",
   "execution_count": 3,
   "metadata": {},
   "outputs": [],
   "source": [
    "loaded_model= tf.keras.models.load_model('modelo2/modelo.h5')\n",
    "nb_train_samples = 7629  \n",
    "nb_validation_samples = 300\n",
    "\n",
    "\n",
    "epochs = 5\n",
    "width, height = 306, 306\n",
    "batch_size = 32\n",
    "steps = nb_train_samples // batch_size\n",
    "validation_steps = nb_validation_samples // batch_size"
   ]
  },
  {
   "cell_type": "code",
   "execution_count": 8,
   "metadata": {},
   "outputs": [
    {
     "name": "stdout",
     "output_type": "stream",
     "text": [
      "Found 7629 images belonging to 3 classes.\n",
      "Found 300 images belonging to 3 classes.\n"
     ]
    }
   ],
   "source": [
    "train_datagen = ImageDataGenerator(\n",
    "    rescale=1. / 255,\n",
    "    horizontal_flip=True,\n",
    "    vertical_flip=True,\n",
    "    brightness_range=[0.2,0.8],\n",
    "    rotation_range=20,\n",
    ")\n",
    "    \n",
    "\n",
    "# this is the augmentation configuration we will use for testing:\n",
    "# only rescaling\n",
    "test_datagen = ImageDataGenerator(rescale=1. / 255)\n",
    "\n",
    "\n",
    "train_generator = train_datagen.flow_from_directory(\n",
    "    train_dir,\n",
    "    target_size=(width, height),\n",
    "    batch_size=batch_size,\n",
    "    class_mode='categorical')\n",
    "    \n",
    "validation_generator = test_datagen.flow_from_directory(\n",
    "    dev_dir,\n",
    "    target_size=(width, height),\n",
    "    batch_size=batch_size,\n",
    "    class_mode='categorical')\n",
    "    \n",
    " "
   ]
  },
  {
   "cell_type": "code",
   "execution_count": 9,
   "metadata": {},
   "outputs": [
    {
     "name": "stdout",
     "output_type": "stream",
     "text": [
      "WARNING:tensorflow:From <ipython-input-9-febc08b0d584>:9: Model.fit_generator (from tensorflow.python.keras.engine.training) is deprecated and will be removed in a future version.\n",
      "Instructions for updating:\n",
      "Please use Model.fit, which supports generators.\n",
      "WARNING:tensorflow:sample_weight modes were coerced from\n",
      "  ...\n",
      "    to  \n",
      "  ['...']\n",
      "WARNING:tensorflow:sample_weight modes were coerced from\n",
      "  ...\n",
      "    to  \n",
      "  ['...']\n",
      "Train for 496 steps, validate for 18 steps\n",
      "Epoch 1/10\n",
      "WARNING:tensorflow:multiprocessing can interact badly with TensorFlow, causing nondeterministic deadlocks. For high performance data pipelines tf.data is recommended.\n",
      "476/496 [===========================>..] - ETA: 9s - loss: 0.5404 - accuracy: 0.7676 - mean_squared_error: 0.1053  ETA: 11s - loss: 0.5412 - accuracy: 0.7677 - mean_squared_erWARNING:tensorflow:multiprocessing can interact badly with TensorFlow, causing nondeterministic deadlocks. For high performance data pipelines tf.data is recommended.\n",
      "496/496 [==============================] - 233s 470ms/step - loss: 0.5406 - accuracy: 0.7669 - mean_squared_error: 0.1054 - val_loss: 0.5943 - val_accuracy: 0.7222 - val_mean_squared_error: 0.1214\n",
      "Epoch 2/10\n",
      "WARNING:tensorflow:multiprocessing can interact badly with TensorFlow, causing nondeterministic deadlocks. For high performance data pipelines tf.data is recommended.\n",
      "475/496 [===========================>..] - ETA: 8s - loss: 0.5385 - accuracy: 0.7623 - mean_squared_error: 0.1052WARNING:tensorflow:multiprocessing can interact badly with TensorFlow, causing nondeterministic deadlocks. For high performance data pipelines tf.data is recommended.\n",
      "496/496 [==============================] - 216s 436ms/step - loss: 0.5406 - accuracy: 0.7605 - mean_squared_error: 0.1057 - val_loss: 0.5700 - val_accuracy: 0.7257 - val_mean_squared_error: 0.1130\n",
      "Epoch 3/10\n",
      "WARNING:tensorflow:multiprocessing can interact badly with TensorFlow, causing nondeterministic deadlocks. For high performance data pipelines tf.data is recommended.\n",
      "475/496 [===========================>..] - ETA: 9s - loss: 0.5388 - accuracy: 0.7615 - mean_squared_error: 0.1059WARNING:tensorflow:multiprocessing can interact badly with TensorFlow, causing nondeterministic deadlocks. For high performance data pipelines tf.data is recommended.\n",
      "496/496 [==============================] - 223s 450ms/step - loss: 0.5372 - accuracy: 0.7618 - mean_squared_error: 0.1057 - val_loss: 0.5420 - val_accuracy: 0.7535 - val_mean_squared_error: 0.1084\n",
      "Epoch 4/10\n",
      "WARNING:tensorflow:multiprocessing can interact badly with TensorFlow, causing nondeterministic deadlocks. For high performance data pipelines tf.data is recommended.\n",
      "476/496 [===========================>..] - ETA: 8s - loss: 0.5354 - accuracy: 0.7686 - mean_squared_error: 0.1049WARNING:tensorflow:multiprocessing can interact badly with TensorFlow, causing nondeterministic deadlocks. For high performance data pipelines tf.data is recommended.\n",
      "496/496 [==============================] - 223s 451ms/step - loss: 0.5363 - accuracy: 0.7673 - mean_squared_error: 0.1053 - val_loss: 0.5440 - val_accuracy: 0.7708 - val_mean_squared_error: 0.1065\n",
      "Epoch 5/10\n",
      "WARNING:tensorflow:multiprocessing can interact badly with TensorFlow, causing nondeterministic deadlocks. For high performance data pipelines tf.data is recommended.\n",
      "476/496 [===========================>..] - ETA: 8s - loss: 0.5381 - accuracy: 0.7642 - mean_squared_error: 0.1059WARNING:tensorflow:multiprocessing can interact badly with TensorFlow, causing nondeterministic deadlocks. For high performance data pipelines tf.data is recommended.\n",
      "496/496 [==============================] - 223s 450ms/step - loss: 0.5389 - accuracy: 0.7634 - mean_squared_error: 0.1061 - val_loss: 0.5478 - val_accuracy: 0.7847 - val_mean_squared_error: 0.1075\n",
      "Epoch 6/10\n",
      "WARNING:tensorflow:multiprocessing can interact badly with TensorFlow, causing nondeterministic deadlocks. For high performance data pipelines tf.data is recommended.\n",
      "475/496 [===========================>..] - ETA: 9s - loss: 0.5324 - accuracy: 0.7675 - mean_squared_error: 0.1043WARNING:tensorflow:multiprocessing can interact badly with TensorFlow, causing nondeterministic deadlocks. For high performance data pipelines tf.data is recommended.\n",
      "496/496 [==============================] - 221s 445ms/step - loss: 0.5318 - accuracy: 0.7670 - mean_squared_error: 0.1044 - val_loss: 0.6493 - val_accuracy: 0.6875 - val_mean_squared_error: 0.1296\n",
      "Epoch 7/10\n",
      "WARNING:tensorflow:multiprocessing can interact badly with TensorFlow, causing nondeterministic deadlocks. For high performance data pipelines tf.data is recommended.\n",
      "475/496 [===========================>..] - ETA: 9s - loss: 0.5210 - accuracy: 0.7706 - mean_squared_error: 0.1025WARNING:tensorflow:multiprocessing can interact badly with TensorFlow, causing nondeterministic deadlocks. For high performance data pipelines tf.data is recommended.\n",
      "496/496 [==============================] - 222s 447ms/step - loss: 0.5206 - accuracy: 0.7701 - mean_squared_error: 0.1025 - val_loss: 0.5578 - val_accuracy: 0.7569 - val_mean_squared_error: 0.1106\n",
      "Epoch 8/10\n",
      "WARNING:tensorflow:multiprocessing can interact badly with TensorFlow, causing nondeterministic deadlocks. For high performance data pipelines tf.data is recommended.\n",
      "476/496 [===========================>..] - ETA: 8s - loss: 0.5309 - accuracy: 0.7734 - mean_squared_error: 0.103WARNING:tensorflow:multiprocessing can interact badly with TensorFlow, causing nondeterministic deadlocks. For high performance data pipelines tf.data is recommended.\n",
      "496/496 [==============================] - 222s 448ms/step - loss: 0.5298 - accuracy: 0.7749 - mean_squared_error: 0.1034 - val_loss: 0.7065 - val_accuracy: 0.6979 - val_mean_squared_error: 0.1294\n",
      "Epoch 9/10\n",
      "WARNING:tensorflow:multiprocessing can interact badly with TensorFlow, causing nondeterministic deadlocks. For high performance data pipelines tf.data is recommended.\n",
      "476/496 [===========================>..] - ETA: 8s - loss: 0.5310 - accuracy: 0.7697 - mean_squared_error: 0.1042WARNING:tensorflow:multiprocessing can interact badly with TensorFlow, causing nondeterministic deadlocks. For high performance data pipelines tf.data is recommended.\n",
      "496/496 [==============================] - 221s 445ms/step - loss: 0.5294 - accuracy: 0.7701 - mean_squared_error: 0.1039 - val_loss: 0.5375 - val_accuracy: 0.7569 - val_mean_squared_error: 0.1074\n",
      "Epoch 10/10\n",
      "WARNING:tensorflow:multiprocessing can interact badly with TensorFlow, causing nondeterministic deadlocks. For high performance data pipelines tf.data is recommended.\n",
      "476/496 [===========================>..] - ETA: 8s - loss: 0.5264 - accuracy: 0.7625 - mean_squared_error: 0.1037WARNING:tensorflow:multiprocessing can interact badly with TensorFlow, causing nondeterministic deadlocks. For high performance data pipelines tf.data is recommended.\n",
      "496/496 [==============================] - 223s 450ms/step - loss: 0.5289 - accuracy: 0.7616 - mean_squared_error: 0.1044 - val_loss: 0.5861 - val_accuracy: 0.7500 - val_mean_squared_error: 0.1185\n"
     ]
    },
    {
     "ename": "NameError",
     "evalue": "name 'cnn' is not defined",
     "output_type": "error",
     "traceback": [
      "\u001b[0;31m---------------------------------------------------------------------------\u001b[0m",
      "\u001b[0;31mNameError\u001b[0m                                 Traceback (most recent call last)",
      "\u001b[0;32m<ipython-input-9-febc08b0d584>\u001b[0m in \u001b[0;36m<module>\u001b[0;34m\u001b[0m\n\u001b[1;32m     13\u001b[0m     \u001b[0mos\u001b[0m\u001b[0;34m.\u001b[0m\u001b[0mmkdir\u001b[0m\u001b[0;34m(\u001b[0m\u001b[0mdir\u001b[0m\u001b[0;34m)\u001b[0m\u001b[0;34m\u001b[0m\u001b[0m\n\u001b[1;32m     14\u001b[0m     \u001b[0;31m#os.path.exists(dir)\u001b[0m\u001b[0;34m\u001b[0m\u001b[0;34m\u001b[0m\u001b[0m\n\u001b[0;32m---> 15\u001b[0;31m \u001b[0mcnn\u001b[0m\u001b[0;34m.\u001b[0m\u001b[0msave\u001b[0m\u001b[0;34m(\u001b[0m\u001b[0mdir\u001b[0m \u001b[0;34m+\u001b[0m \u001b[0;34m'modelo.h5'\u001b[0m\u001b[0;34m)\u001b[0m\u001b[0;34m\u001b[0m\u001b[0m\n\u001b[0m\u001b[1;32m     16\u001b[0m \u001b[0mcnn\u001b[0m\u001b[0;34m.\u001b[0m\u001b[0msave_weights\u001b[0m\u001b[0;34m(\u001b[0m\u001b[0mdir\u001b[0m  \u001b[0;34m+\u001b[0m\u001b[0;34m'weights.h'\u001b[0m\u001b[0;34m)\u001b[0m\u001b[0;34m\u001b[0m\u001b[0m\n",
      "\u001b[0;31mNameError\u001b[0m: name 'cnn' is not defined"
     ]
    }
   ],
   "source": [
    "loaded_model.compile(loss='categorical_crossentropy', optimizer='Adam', metrics = ['accuracy', 'mean_squared_error'])\n",
    "history = loaded_model.fit_generator(\n",
    "        train_generator,\n",
    "        steps_per_epoch=steps,\n",
    "        epochs=epochs,\n",
    "        validation_data=validation_generator,\n",
    "        validation_steps=nb_validation_samples // batch_size,\n",
    "        use_multiprocessing=True,\n",
    "        workers = 8\n",
    "    )\n",
    "\n"
   ]
  },
  {
   "cell_type": "code",
   "execution_count": 11,
   "metadata": {},
   "outputs": [
    {
     "data": {
      "image/png": "[encoded data removed]",
      "text/plain": [
       "<Figure size 432x288 with 1 Axes>"
      ]
     },
     "metadata": {
      "needs_background": "light"
     },
     "output_type": "display_data"
    }
   ],
   "source": [
    "import matplotlib.pyplot as plt\n",
    "loss_train = history.history['loss']\n",
    "loss_val = history.history['val_loss']\n",
    "img = plt.gcf()\n",
    "plt.plot(range(0,epochs), loss_train, 'g', label='Training loss')\n",
    "plt.plot(range(0,epochs), loss_val, 'b', label='validation loss')\n",
    "plt.title('Training and Validation loss')\n",
    "plt.xlabel('Epochs')\n",
    "plt.ylabel('Loss')\n",
    "plt.legend()\n",
    "plt.show()\n",
    "\n",
    "img.savefig('next_to_send/images_old_model/training_lost_last.png')"
   ]
  },
  {
   "cell_type": "code",
   "execution_count": 14,
   "metadata": {},
   "outputs": [
    {
     "data": {
      "image/png": "[encoded data removed]",
      "text/plain": [
       "<Figure size 432x288 with 1 Axes>"
      ]
     },
     "metadata": {
      "needs_background": "light"
     },
     "output_type": "display_data"
    }
   ],
   "source": [
    "import matplotlib.pyplot as plt\n",
    "loss_train = history.history['accuracy']\n",
    "loss_val = history.history['val_accuracy']\n",
    "img = plt.gcf()\n",
    "plt.plot(range(0,epochs), loss_train, 'g', label='accuracy')\n",
    "plt.plot(range(0,epochs), loss_val, 'b', label='val_accuracy')\n",
    "plt.title('Accuracy and accuracy validation')\n",
    "plt.xlabel('Epochs')\n",
    "plt.ylabel('Loss')\n",
    "plt.legend()\n",
    "plt.show()\n",
    "img.savefig('next_to_send/images_old_model/accuracy_last.png')"
   ]
  },
  {
   "cell_type": "markdown",
   "metadata": {},
   "source": [
    "<h2>Test</h2>\n",
    "Probamos el modelo con un conjunto de etiquetas propio"
   ]
  },
  {
   "cell_type": "code",
   "execution_count": 15,
   "metadata": {},
   "outputs": [
    {
     "name": "stdout",
     "output_type": "stream",
     "text": [
      "Found 310 images belonging to 3 classes.\n"
     ]
    }
   ],
   "source": [
    "test_generator = test_datagen.flow_from_directory(\n",
    "        test_dir,\n",
    "        target_size=(306, 306),\n",
    "        class_mode='categorical',\n",
    ")"
   ]
  },
  {
   "cell_type": "code",
   "execution_count": 16,
   "metadata": {},
   "outputs": [
    {
     "name": "stdout",
     "output_type": "stream",
     "text": [
      "WARNING:tensorflow:sample_weight modes were coerced from\n",
      "  ...\n",
      "    to  \n",
      "  ['...']\n",
      "10/10 [==============================] - 2s 208ms/step - loss: 0.6812 - accuracy: 0.6968 - mean_squared_error: 0.1324\n"
     ]
    }
   ],
   "source": [
    "pred = loaded_model.evaluate(test_generator)"
   ]
  },
  {
   "cell_type": "markdown",
   "metadata": {},
   "source": [
    "<h2>modelo con más capas</h2>"
   ]
  },
  {
   "cell_type": "code",
   "execution_count": 4,
   "metadata": {},
   "outputs": [],
   "source": [
    "def new_model(input_shape, filter_convs, filter_sizes, pool_sizes):\n",
    "    width, height = input_shape[0], input_shape[1] \n",
    "    if K.image_data_format() == 'channels_first':\n",
    "        input_shape = (3, width, height)\n",
    "    else:\n",
    "        input_shape = (width, height, 3)\n",
    "\n",
    "    network =Sequential()\n",
    "    print(input_shape)\n",
    "    network.add(Dropout(0.5, input_shape=input_shape))\n",
    "    #first layer\n",
    "    network.add(Convolution2D( filter_convs[0],\n",
    "                               filter_sizes[0], \n",
    "                               padding='same', \n",
    "                               #input_shape = input_shape,\n",
    "                               activation='relu'\n",
    "                             ))\n",
    "    network.add(MaxPooling2D(pool_size=pool_sizes[0]))\n",
    "    \n",
    "    #Second layer\n",
    "    network.add(Convolution2D( filter_convs[1],\n",
    "                               filter_sizes[1],  \n",
    "                               activation='relu'\n",
    "                             ))\n",
    "    network.add(MaxPooling2D(pool_size=pool_sizes[1]))\n",
    "    \n",
    "    #third layer\n",
    "    network.add(Convolution2D( filter_convs[2],\n",
    "                               filter_sizes[2], \n",
    "                               activation='relu'\n",
    "                             ))\n",
    "    \n",
    "    network.add(MaxPooling2D(pool_size=pool_sizes[2]))\n",
    "    \n",
    "    \n",
    "    #fourth layer\n",
    "    network.add(Convolution2D( filter_convs[3],\n",
    "                               filter_sizes[3], \n",
    "                               padding='same', \n",
    "                               input_shape = input_shape,\n",
    "                               activation='relu'\n",
    "                             ))\n",
    "    network.add(MaxPooling2D(pool_size=pool_sizes[3]))\n",
    "    #fourth layer\n",
    "    network.add(Convolution2D( 128,\n",
    "                               filter_sizes[3], \n",
    "                               padding='same', \n",
    "                               input_shape = input_shape,\n",
    "                               activation='relu'\n",
    "                             ))\n",
    "    network.add(MaxPooling2D(pool_size=pool_sizes[3]))\n",
    "    \n",
    "    \n",
    "    \n",
    "    network.add(Flatten())\n",
    "    network.add(Dense(128))\n",
    "    network.add(Activation('relu'))\n",
    "    network.add(Dropout(0.5))\n",
    "    network.add(Dense(3))\n",
    "    network.add(Activation('softmax'))\n",
    "\n",
    "\n",
    "\n",
    "    \n",
    "    return network"
   ]
  },
  {
   "cell_type": "markdown",
   "metadata": {},
   "source": [
    "<h2>Hiperparametros del nuevo modelo </h2>"
   ]
  },
  {
   "cell_type": "code",
   "execution_count": 4,
   "metadata": {},
   "outputs": [],
   "source": [
    "#K.image_data_format() CHANNELS_LAST\n",
    "nb_train_samples = 7629 \n",
    "nb_validation_samples = 300\n",
    "\n",
    "train_dir = 'data/train'\n",
    "dev_dir = 'data/dev'\n",
    "test_dir = 'data/test'\n",
    "epochs = 10\n",
    "width, height = 306, 306\n",
    "batch_size = 16\n",
    "steps = nb_train_samples // batch_size\n",
    "validation_steps = nb_validation_samples // batch_size\n",
    "#Tamaño profundidad de filtros\n",
    "filtersConv1 = 32\n",
    "filtersConv2 = 32\n",
    "filtersConv3 = 64\n",
    "filtersConv4 = 64\n",
    "filtersConv5 = 128\n",
    "\n",
    "\n",
    "\n",
    "#Tamaño de los filtros\n",
    "filter_size1 = (3,3)\n",
    "filter_size2 = (3,3)\n",
    "filter_size3 = (3,3)\n",
    "filter_size4 = (3,3)\n",
    "filter_size5 = (3,3)\n",
    "#PoolSizes\n",
    "pool_size1 = (2,2)\n",
    "pool_size2 = (2,2)\n",
    "pool_size3 = (2,2)\n",
    "pool_size4 = (2,2)\n",
    "pool_size5 = (2,2)\n",
    "\n",
    "number_class = 3\n",
    "learning_rate = 0.005\n",
    "lr = learning_rate\n",
    "#Limpiamos sesiones previas\n",
    "K.clear_session()\n",
    "\n",
    "filter_convs = [filtersConv1, filtersConv2, filtersConv3, filtersConv4,filtersConv5]\n",
    "filter_sizes = [filter_size1, filter_size2, filter_size3,filter_size4,filter_size5]\n",
    "pool_sizes   = [pool_size1, pool_size2, pool_size3,pool_size4,pool_size5]\n",
    "\n",
    " "
   ]
  },
  {
   "cell_type": "code",
   "execution_count": 6,
   "metadata": {},
   "outputs": [
    {
     "name": "stdout",
     "output_type": "stream",
     "text": [
      "(306, 306, 3)\n",
      "Model: \"sequential\"\n",
      "_________________________________________________________________\n",
      "Layer (type)                 Output Shape              Param #   \n",
      "=================================================================\n",
      "dropout (Dropout)            (None, 306, 306, 3)       0         \n",
      "_________________________________________________________________\n",
      "conv2d (Conv2D)              (None, 306, 306, 32)      896       \n",
      "_________________________________________________________________\n",
      "max_pooling2d (MaxPooling2D) (None, 153, 153, 32)      0         \n",
      "_________________________________________________________________\n",
      "conv2d_1 (Conv2D)            (None, 151, 151, 32)      9248      \n",
      "_________________________________________________________________\n",
      "max_pooling2d_1 (MaxPooling2 (None, 75, 75, 32)        0         \n",
      "_________________________________________________________________\n",
      "conv2d_2 (Conv2D)            (None, 73, 73, 64)        18496     \n",
      "_________________________________________________________________\n",
      "max_pooling2d_2 (MaxPooling2 (None, 36, 36, 64)        0         \n",
      "_________________________________________________________________\n",
      "conv2d_3 (Conv2D)            (None, 36, 36, 64)        36928     \n",
      "_________________________________________________________________\n",
      "max_pooling2d_3 (MaxPooling2 (None, 18, 18, 64)        0         \n",
      "_________________________________________________________________\n",
      "conv2d_4 (Conv2D)            (None, 18, 18, 128)       73856     \n",
      "_________________________________________________________________\n",
      "max_pooling2d_4 (MaxPooling2 (None, 9, 9, 128)         0         \n",
      "_________________________________________________________________\n",
      "flatten (Flatten)            (None, 10368)             0         \n",
      "_________________________________________________________________\n",
      "dense (Dense)                (None, 128)               1327232   \n",
      "_________________________________________________________________\n",
      "activation (Activation)      (None, 128)               0         \n",
      "_________________________________________________________________\n",
      "dropout_1 (Dropout)          (None, 128)               0         \n",
      "_________________________________________________________________\n",
      "dense_1 (Dense)              (None, 3)                 387       \n",
      "_________________________________________________________________\n",
      "activation_1 (Activation)    (None, 3)                 0         \n",
      "=================================================================\n",
      "Total params: 1,467,043\n",
      "Trainable params: 1,467,043\n",
      "Non-trainable params: 0\n",
      "_________________________________________________________________\n"
     ]
    }
   ],
   "source": [
    "input_shape = (width, height)\n",
    "cnn_new = new_model(input_shape, filter_convs, filter_sizes, pool_sizes )\n",
    "#Primer modelo\n",
    "#cnn.compile(loss='mean_squared_error', optimizer='Adam', metrics = ['accuracy'])\n",
    "#CategoricalCrossentropy\n",
    "cnn_new.compile(loss='categorical_crossentropy', optimizer='Adam', metrics = ['accuracy', 'mean_squared_error'])\n",
    "\n",
    "cnn_new.summary()\n"
   ]
  },
  {
   "cell_type": "code",
   "execution_count": 5,
   "metadata": {},
   "outputs": [
    {
     "name": "stdout",
     "output_type": "stream",
     "text": [
      "Found 7629 images belonging to 3 classes.\n",
      "Found 300 images belonging to 3 classes.\n"
     ]
    }
   ],
   "source": [
    "train_datagen = ImageDataGenerator(\n",
    "    rescale=1. / 255,\n",
    "    horizontal_flip=True,\n",
    "    vertical_flip=True,\n",
    "    brightness_range=[0.2,0.8],\n",
    "    rotation_range=90,\n",
    ")\n",
    "    \n",
    "\n",
    "# this is the augmentation configuration we will use for testing:\n",
    "# only rescaling\n",
    "test_datagen = ImageDataGenerator(rescale=1. / 255)\n",
    "\n",
    "\n",
    "train_generator = train_datagen.flow_from_directory(\n",
    "    train_dir,\n",
    "    target_size=(width, height),\n",
    "    batch_size=batch_size,\n",
    "    class_mode='categorical')\n",
    "    \n",
    "validation_generator = test_datagen.flow_from_directory(\n",
    "    dev_dir,\n",
    "    target_size=(width, height),\n",
    "    batch_size=batch_size,\n",
    "    class_mode='categorical')\n",
    "    \n",
    " "
   ]
  },
  {
   "cell_type": "code",
   "execution_count": 18,
   "metadata": {},
   "outputs": [],
   "source": [
    "#from keras.callbacks import Callback\n",
    "from tensorflow.keras.callbacks import Callback, CSVLogger\n",
    "csv_logger = CSVLogger('log_new_model.csv', append=True, separator=';')"
   ]
  },
  {
   "cell_type": "code",
   "execution_count": null,
   "metadata": {},
   "outputs": [
    {
     "name": "stdout",
     "output_type": "stream",
     "text": [
      "WARNING:tensorflow:sample_weight modes were coerced from\n",
      "  ...\n",
      "    to  \n",
      "  ['...']\n",
      "WARNING:tensorflow:sample_weight modes were coerced from\n",
      "  ...\n",
      "    to  \n",
      "  ['...']\n",
      "Train for 476 steps, validate for 18 steps\n",
      "Epoch 1/60\n",
      "WARNING:tensorflow:multiprocessing can interact badly with TensorFlow, causing nondeterministic deadlocks. For high performance data pipelines tf.data is recommended.\n",
      "475/476 [============================>.] - ETA: 0s - loss: 0.7249 - accuracy: 0.6686 - mean_squared_error: 0.1425WARNING:tensorflow:multiprocessing can interact badly with TensorFlow, causing nondeterministic deadlocks. For high performance data pipelines tf.data is recommended.\n",
      "476/476 [==============================] - 214s 449ms/step - loss: 0.7251 - accuracy: 0.6683 - mean_squared_error: 0.1425 - val_loss: 0.7473 - val_accuracy: 0.6493 - val_mean_squared_error: 0.1516\n",
      "Epoch 2/60\n",
      "WARNING:tensorflow:multiprocessing can interact badly with TensorFlow, causing nondeterministic deadlocks. For high performance data pipelines tf.data is recommended.\n",
      "474/476 [============================>.] - ETA: 0s - loss: 0.7239 - accuracy: 0.6668 - mean_squared_error: 0.1422WARNING:tensorflow:multiprocessing can interact badly with TensorFlow, causing nondeterministic deadlocks. For high performance data pipelines tf.data is recommended.\n",
      "476/476 [==============================] - 215s 452ms/step - loss: 0.7236 - accuracy: 0.6665 - mean_squared_error: 0.1421 - val_loss: 0.6925 - val_accuracy: 0.6771 - val_mean_squared_error: 0.1427\n",
      "Epoch 3/60\n",
      "WARNING:tensorflow:multiprocessing can interact badly with TensorFlow, causing nondeterministic deadlocks. For high performance data pipelines tf.data is recommended.\n",
      "475/476 [============================>.] - ETA: 0s - loss: 0.7211 - accuracy: 0.6734 - mean_squared_error: 0.1413WARNING:tensorflow:multiprocessing can interact badly with TensorFlow, causing nondeterministic deadlocks. For high performance data pipelines tf.data is recommended.\n",
      "476/476 [==============================] - 214s 450ms/step - loss: 0.7205 - accuracy: 0.6738 - mean_squared_error: 0.1412 - val_loss: 0.8088 - val_accuracy: 0.6181 - val_mean_squared_error: 0.1612\n",
      "Epoch 4/60\n",
      "WARNING:tensorflow:multiprocessing can interact badly with TensorFlow, causing nondeterministic deadlocks. For high performance data pipelines tf.data is recommended.\n",
      "475/476 [============================>.] - ETA: 0s - loss: 0.7232 - accuracy: 0.6759 - mean_squared_error: 0.1412WARNING:tensorflow:multiprocessing can interact badly with TensorFlow, causing nondeterministic deadlocks. For high performance data pipelines tf.data is recommended.\n",
      "476/476 [==============================] - 216s 455ms/step - loss: 0.7232 - accuracy: 0.6758 - mean_squared_error: 0.1412 - val_loss: 0.7601 - val_accuracy: 0.6042 - val_mean_squared_error: 0.1553\n",
      "Epoch 5/60\n",
      "WARNING:tensorflow:multiprocessing can interact badly with TensorFlow, causing nondeterministic deadlocks. For high performance data pipelines tf.data is recommended.\n",
      "475/476 [============================>.] - ETA: 0s - loss: 0.7205 - accuracy: 0.6734 - mean_squared_error: 0.1408WARNING:tensorflow:multiprocessing can interact badly with TensorFlow, causing nondeterministic deadlocks. For high performance data pipelines tf.data is recommended.\n",
      "476/476 [==============================] - 214s 449ms/step - loss: 0.7203 - accuracy: 0.6736 - mean_squared_error: 0.1408 - val_loss: 0.7503 - val_accuracy: 0.6493 - val_mean_squared_error: 0.1527\n",
      "Epoch 6/60\n",
      "WARNING:tensorflow:multiprocessing can interact badly with TensorFlow, causing nondeterministic deadlocks. For high performance data pipelines tf.data is recommended.\n",
      "475/476 [============================>.] - ETA: 0s - loss: 0.7108 - accuracy: 0.6775 - mean_squared_error: 0.1399WARNING:tensorflow:multiprocessing can interact badly with TensorFlow, causing nondeterministic deadlocks. For high performance data pipelines tf.data is recommended.\n",
      "476/476 [==============================] - 217s 455ms/step - loss: 0.7107 - accuracy: 0.6777 - mean_squared_error: 0.1398 - val_loss: 0.7096 - val_accuracy: 0.6771 - val_mean_squared_error: 0.1446\n",
      "Epoch 7/60\n",
      "WARNING:tensorflow:multiprocessing can interact badly with TensorFlow, causing nondeterministic deadlocks. For high performance data pipelines tf.data is recommended.\n",
      "475/476 [============================>.] - ETA: 0s - loss: 0.7088 - accuracy: 0.6776 - mean_squared_error: 0.1388WARNING:tensorflow:multiprocessing can interact badly with TensorFlow, causing nondeterministic deadlocks. For high performance data pipelines tf.data is recommended.\n",
      "476/476 [==============================] - 216s 454ms/step - loss: 0.7088 - accuracy: 0.6775 - mean_squared_error: 0.1388 - val_loss: 0.7032 - val_accuracy: 0.6840 - val_mean_squared_error: 0.1418\n",
      "Epoch 8/60\n",
      "WARNING:tensorflow:multiprocessing can interact badly with TensorFlow, causing nondeterministic deadlocks. For high performance data pipelines tf.data is recommended.\n",
      "475/476 [============================>.] - ETA: 0s - loss: 0.7066 - accuracy: 0.6809 - mean_squared_error: 0.1388WARNING:tensorflow:multiprocessing can interact badly with TensorFlow, causing nondeterministic deadlocks. For high performance data pipelines tf.data is recommended.\n",
      "476/476 [==============================] - 214s 449ms/step - loss: 0.7061 - accuracy: 0.6811 - mean_squared_error: 0.1387 - val_loss: 0.7108 - val_accuracy: 0.6979 - val_mean_squared_error: 0.1437\n",
      "Epoch 9/60\n",
      "WARNING:tensorflow:multiprocessing can interact badly with TensorFlow, causing nondeterministic deadlocks. For high performance data pipelines tf.data is recommended.\n",
      "475/476 [============================>.] - ETA: 0s - loss: 0.7028 - accuracy: 0.6878 - mean_squared_error: 0.1375WARNING:tensorflow:multiprocessing can interact badly with TensorFlow, causing nondeterministic deadlocks. For high performance data pipelines tf.data is recommended.\n",
      "476/476 [==============================] - 208s 438ms/step - loss: 0.7026 - accuracy: 0.6878 - mean_squared_error: 0.1374 - val_loss: 0.7037 - val_accuracy: 0.6736 - val_mean_squared_error: 0.1439\n",
      "Epoch 10/60\n",
      "WARNING:tensorflow:multiprocessing can interact badly with TensorFlow, causing nondeterministic deadlocks. For high performance data pipelines tf.data is recommended.\n",
      "475/476 [============================>.] - ETA: 0s - loss: 0.7053 - accuracy: 0.6772 - mean_squared_error: 0.1385WARNING:tensorflow:multiprocessing can interact badly with TensorFlow, causing nondeterministic deadlocks. For high performance data pipelines tf.data is recommended.\n",
      "476/476 [==============================] - 218s 457ms/step - loss: 0.7047 - accuracy: 0.6774 - mean_squared_error: 0.1384 - val_loss: 0.6726 - val_accuracy: 0.6701 - val_mean_squared_error: 0.1392\n",
      "Epoch 11/60\n",
      "WARNING:tensorflow:multiprocessing can interact badly with TensorFlow, causing nondeterministic deadlocks. For high performance data pipelines tf.data is recommended.\n",
      "475/476 [============================>.] - ETA: 0s - loss: 0.6919 - accuracy: 0.6859 - mean_squared_error: 0.1359WARNING:tensorflow:multiprocessing can interact badly with TensorFlow, causing nondeterministic deadlocks. For high performance data pipelines tf.data is recommended.\n",
      "476/476 [==============================] - 216s 454ms/step - loss: 0.6922 - accuracy: 0.6858 - mean_squared_error: 0.1359 - val_loss: 0.7577 - val_accuracy: 0.6458 - val_mean_squared_error: 0.1506\n",
      "Epoch 12/60\n",
      "WARNING:tensorflow:multiprocessing can interact badly with TensorFlow, causing nondeterministic deadlocks. For high performance data pipelines tf.data is recommended.\n",
      "475/476 [============================>.] - ETA: 0s - loss: 0.6939 - accuracy: 0.6832 - mean_squared_error: 0.1367WARNING:tensorflow:multiprocessing can interact badly with TensorFlow, causing nondeterministic deadlocks. For high performance data pipelines tf.data is recommended.\n",
      "476/476 [==============================] - 223s 468ms/step - loss: 0.6942 - accuracy: 0.6830 - mean_squared_error: 0.1368 - val_loss: 0.7416 - val_accuracy: 0.6806 - val_mean_squared_error: 0.1468\n",
      "Epoch 13/60\n",
      "WARNING:tensorflow:multiprocessing can interact badly with TensorFlow, causing nondeterministic deadlocks. For high performance data pipelines tf.data is recommended.\n"
     ]
    },
    {
     "name": "stderr",
     "output_type": "stream",
     "text": [
      "Exception in thread Thread-187:\n",
      "Traceback (most recent call last):\n",
      "  File \"/usr/lib/python3.5/threading.py\", line 914, in _bootstrap_inner\n",
      "    self.run()\n",
      "  File \"/usr/lib/python3.5/threading.py\", line 862, in run\n",
      "    self._target(*self._args, **self._kwargs)\n",
      "  File \"/usr/local/lib/python3.5/dist-packages/tensorflow_core/python/keras/utils/data_utils.py\", line 844, in _run\n",
      "    with closing(self.executor_fn(_SHARED_SEQUENCES)) as executor:\n",
      "  File \"/usr/local/lib/python3.5/dist-packages/tensorflow_core/python/keras/utils/data_utils.py\", line 823, in pool_fn\n",
      "    initargs=(seqs, None, get_worker_id_queue()))\n",
      "  File \"/usr/lib/python3.5/multiprocessing/context.py\", line 118, in Pool\n",
      "    context=self.get_context())\n",
      "  File \"/usr/lib/python3.5/multiprocessing/pool.py\", line 168, in __init__\n",
      "    self._repopulate_pool()\n",
      "  File \"/usr/lib/python3.5/multiprocessing/pool.py\", line 233, in _repopulate_pool\n",
      "    w.start()\n",
      "  File \"/usr/lib/python3.5/multiprocessing/process.py\", line 105, in start\n",
      "    self._popen = self._Popen(self)\n",
      "  File \"/usr/lib/python3.5/multiprocessing/context.py\", line 267, in _Popen\n",
      "    return Popen(process_obj)\n",
      "  File \"/usr/lib/python3.5/multiprocessing/popen_fork.py\", line 20, in __init__\n",
      "    self._launch(process_obj)\n",
      "  File \"/usr/lib/python3.5/multiprocessing/popen_fork.py\", line 67, in _launch\n",
      "    self.pid = os.fork()\n",
      "OSError: [Errno 12] Cannot allocate memory\n",
      "\n"
     ]
    }
   ],
   "source": [
    "\n",
    "cnn_new.compile(loss='categorical_crossentropy', optimizer='Adam', metrics = ['accuracy', 'mean_squared_error'])\n",
    "history = cnn_new.fit_generator(\n",
    "        train_generator,\n",
    "        steps_per_epoch=steps,\n",
    "        epochs=60,\n",
    "        validation_data=validation_generator,\n",
    "        validation_steps=nb_validation_samples // batch_size,\n",
    "        use_multiprocessing=True,\n",
    "        workers = 8,\n",
    "        callbacks=[csv_logger]\n",
    "    )\n",
    "\n"
   ]
  },
  {
   "cell_type": "code",
   "execution_count": 12,
   "metadata": {},
   "outputs": [
    {
     "ename": "NameError",
     "evalue": "name 'cnn_new' is not defined",
     "output_type": "error",
     "traceback": [
      "\u001b[0;31m---------------------------------------------------------------------------\u001b[0m",
      "\u001b[0;31mNameError\u001b[0m                                 Traceback (most recent call last)",
      "\u001b[0;32m<ipython-input-12-8db72c24ff5b>\u001b[0m in \u001b[0;36m<module>\u001b[0;34m\u001b[0m\n\u001b[1;32m      1\u001b[0m \u001b[0;32mfrom\u001b[0m \u001b[0mkeras\u001b[0m\u001b[0;34m.\u001b[0m\u001b[0mutils\u001b[0m\u001b[0;34m.\u001b[0m\u001b[0mvis_utils\u001b[0m \u001b[0;32mimport\u001b[0m \u001b[0mplot_model\u001b[0m\u001b[0;34m\u001b[0m\u001b[0m\n\u001b[1;32m      2\u001b[0m \u001b[0;34m\u001b[0m\u001b[0m\n\u001b[0;32m----> 3\u001b[0;31m \u001b[0mtf\u001b[0m\u001b[0;34m.\u001b[0m\u001b[0mkeras\u001b[0m\u001b[0;34m.\u001b[0m\u001b[0mutils\u001b[0m\u001b[0;34m.\u001b[0m\u001b[0mplot_model\u001b[0m\u001b[0;34m(\u001b[0m\u001b[0mcnn_new\u001b[0m\u001b[0;34m,\u001b[0m \u001b[0;34m\"plot_models/second_model.png\"\u001b[0m\u001b[0;34m)\u001b[0m\u001b[0;34m\u001b[0m\u001b[0m\n\u001b[0m\u001b[1;32m      4\u001b[0m \u001b[0;34m\u001b[0m\u001b[0m\n\u001b[1;32m      5\u001b[0m \u001b[0;31m#plot_model(cnn, to_file='model_plot_init.png')\u001b[0m\u001b[0;34m\u001b[0m\u001b[0;34m\u001b[0m\u001b[0m\n",
      "\u001b[0;31mNameError\u001b[0m: name 'cnn_new' is not defined"
     ]
    }
   ],
   "source": [
    "from keras.utils.vis_utils import plot_model\n",
    "\n",
    "tf.keras.utils.plot_model(cnn_new, \"plot_models/second_model.png\")\n",
    "\n",
    "#plot_model(cnn, to_file='model_plot_init.png')\n"
   ]
  },
  {
   "cell_type": "code",
   "execution_count": 20,
   "metadata": {},
   "outputs": [
    {
     "data": {
      "image/png": "[encoded data removed]",
      "text/plain": [
       "<Figure size 432x288 with 1 Axes>"
      ]
     },
     "metadata": {
      "needs_background": "light"
     },
     "output_type": "display_data"
    }
   ],
   "source": [
    "loss_train = history.history['accuracy']\n",
    "loss_val = history.history['val_accuracy']\n",
    "img = plt.gcf()\n",
    "plt.plot(range(0,epochs), loss_train, 'g', label='accuracy')\n",
    "plt.plot(range(0,epochs), loss_val, 'b', label='val_accuracy')\n",
    "plt.title('Accuracy and accuracy validation')\n",
    "plt.xlabel('Epochs')\n",
    "plt.ylabel('Loss')\n",
    "plt.legend()\n",
    "plt.show()\n",
    "img.savefig('next_to_send/images_new_model/accuracy_third.png')"
   ]
  },
  {
   "cell_type": "code",
   "execution_count": 21,
   "metadata": {},
   "outputs": [
    {
     "data": {
      "image/png": "[encoded data removed]",
      "text/plain": [
       "<Figure size 432x288 with 1 Axes>"
      ]
     },
     "metadata": {
      "needs_background": "light"
     },
     "output_type": "display_data"
    }
   ],
   "source": [
    "import matplotlib.pyplot as plt\n",
    "loss_train = history.history['loss']\n",
    "loss_val = history.history['val_loss']\n",
    "img = plt.gcf()\n",
    "plt.plot(range(0,epochs), loss_train, 'g', label='Training loss')\n",
    "plt.plot(range(0,epochs), loss_val, 'b', label='validation loss')\n",
    "plt.title('Training and Validation loss')\n",
    "plt.xlabel('Epochs')\n",
    "plt.ylabel('Loss')\n",
    "plt.legend()\n",
    "plt.show()\n",
    "\n",
    "img.savefig('next_to_send/images_new_model/training_lost_third.png')"
   ]
  },
  {
   "cell_type": "code",
   "execution_count": null,
   "metadata": {},
   "outputs": [],
   "source": [
    "#Una vez que se entrena, el modelo se guardara en el directorio especificado\n",
    "dir = 'next_to_send/new_model/'+ str(datetime.datetime.now()) + '/'\n",
    "if os.path.exists(dir) == False:\n",
    "    os.mkdir(dir)\n",
    "os.path.exists(dir)\n",
    "cnn_new.save(dir + 'modelo.h5')\n",
    "cnn_new.save_weights(dir  +'weights.h')"
   ]
  },
  {
   "cell_type": "code",
   "execution_count": 17,
   "metadata": {},
   "outputs": [],
   "source": [
    "cnn_new= tf.keras.models.load_model('next_to_send/new_model/2020-02-09 06:59:15.983416/modelo.h5')"
   ]
  },
  {
   "cell_type": "code",
   "execution_count": null,
   "metadata": {},
   "outputs": [],
   "source": []
  }
 ],
 "metadata": {
  "kernelspec": {
   "display_name": "Python 3",
   "language": "python",
   "name": "python3"
  },
  "language_info": {
   "codemirror_mode": {
    "name": "ipython",
    "version": 3
   },
   "file_extension": ".py",
   "mimetype": "text/x-python",
   "name": "python",
   "nbconvert_exporter": "python",
   "pygments_lexer": "ipython3",
   "version": "3.5.3"
  }
 },
 "nbformat": 4,
 "nbformat_minor": 4
}
